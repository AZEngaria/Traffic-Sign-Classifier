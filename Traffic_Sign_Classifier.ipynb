{
 "cells": [
  {
   "cell_type": "markdown",
   "metadata": {
    "deletable": true,
    "editable": true
   },
   "source": [
    "# Self-Driving Car Engineer Nanodegree\n",
    "\n",
    "## Deep Learning\n",
    "\n",
    "## Project: Build a Traffic Sign Recognition Classifier\n",
    "\n",
    "In this notebook, a template is provided for you to implement your functionality in stages, which is required to successfully complete this project. If additional code is required that cannot be included in the notebook, be sure that the Python code is successfully imported and included in your submission if necessary. \n",
    "\n",
    "> **Note**: Once you have completed all of the code implementations, you need to finalize your work by exporting the iPython Notebook as an HTML document. Before exporting the notebook to html, all of the code cells need to have been run so that reviewers can see the final implementation and output. You can then export the notebook by using the menu above and navigating to  \\n\",\n",
    "    \"**File -> Download as -> HTML (.html)**. Include the finished document along with this notebook as your submission. \n",
    "\n",
    "In addition to implementing code, there is a writeup to complete. The writeup should be completed in a separate file, which can be either a markdown file or a pdf document. There is a [write up template](https://github.com/udacity/CarND-Traffic-Sign-Classifier-Project/blob/master/writeup_template.md) that can be used to guide the writing process. Completing the code template and writeup template will cover all of the [rubric points](https://review.udacity.com/#!/rubrics/481/view) for this project.\n",
    "\n",
    "The [rubric](https://review.udacity.com/#!/rubrics/481/view) contains \"Stand Out Suggestions\" for enhancing the project beyond the minimum requirements. The stand out suggestions are optional. If you decide to pursue the \"stand out suggestions\", you can include the code in this Ipython notebook and also discuss the results in the writeup file.\n",
    "\n",
    "\n",
    ">**Note:** Code and Markdown cells can be executed using the **Shift + Enter** keyboard shortcut. In addition, Markdown cells can be edited by typically double-clicking the cell to enter edit mode."
   ]
  },
  {
   "cell_type": "markdown",
   "metadata": {
    "deletable": true,
    "editable": true
   },
   "source": [
    "---\n",
    "## Step 0: Load The Data"
   ]
  },
  {
   "cell_type": "code",
   "execution_count": 82,
   "metadata": {
    "collapsed": false,
    "deletable": true,
    "editable": true
   },
   "outputs": [],
   "source": [
    "# Load pickled data\n",
    "import pickle\n",
    "\n",
    "# TODO: Fill this in based on where you saved the training and testing data\n",
    "\n",
    "training_file = 'traffic-signs-data/train.p'\n",
    "validation_file= 'traffic-signs-data/valid.p'\n",
    "testing_file = 'traffic-signs-data/test.p'\n",
    "\n",
    "with open(training_file, mode='rb') as f:\n",
    "    train = pickle.load(f)\n",
    "with open(validation_file, mode='rb') as f:\n",
    "    valid = pickle.load(f)\n",
    "with open(testing_file, mode='rb') as f:\n",
    "    test = pickle.load(f)\n",
    "    \n",
    "X_train, y_train = train['features'], train['labels']\n",
    "X_valid, y_valid = valid['features'], valid['labels']\n",
    "X_test, y_test = test['features'], test['labels']"
   ]
  },
  {
   "cell_type": "markdown",
   "metadata": {
    "deletable": true,
    "editable": true
   },
   "source": [
    "---\n",
    "\n",
    "## Step 1: Dataset Summary & Exploration\n",
    "\n",
    "The pickled data is a dictionary with 4 key/value pairs:\n",
    "\n",
    "- `'features'` is a 4D array containing raw pixel data of the traffic sign images, (num examples, width, height, channels).\n",
    "- `'labels'` is a 1D array containing the label/class id of the traffic sign. The file `signnames.csv` contains id -> name mappings for each id.\n",
    "- `'sizes'` is a list containing tuples, (width, height) representing the original width and height the image.\n",
    "- `'coords'` is a list containing tuples, (x1, y1, x2, y2) representing coordinates of a bounding box around the sign in the image. **THESE COORDINATES ASSUME THE ORIGINAL IMAGE. THE PICKLED DATA CONTAINS RESIZED VERSIONS (32 by 32) OF THESE IMAGES**\n",
    "\n",
    "Complete the basic data summary below. Use python, numpy and/or pandas methods to calculate the data summary rather than hard coding the results. For example, the [pandas shape method](http://pandas.pydata.org/pandas-docs/stable/generated/pandas.DataFrame.shape.html) might be useful for calculating some of the summary results. "
   ]
  },
  {
   "cell_type": "markdown",
   "metadata": {
    "deletable": true,
    "editable": true
   },
   "source": [
    "### Provide a Basic Summary of the Data Set Using Python, Numpy and/or Pandas"
   ]
  },
  {
   "cell_type": "code",
   "execution_count": 83,
   "metadata": {
    "collapsed": false,
    "deletable": true,
    "editable": true
   },
   "outputs": [
    {
     "name": "stdout",
     "output_type": "stream",
     "text": [
      "34799\n",
      "Number of training examples = 34799\n",
      "Number of validation examples = 4410\n",
      "Number of testing examples = 12630\n",
      "Image data shape = (32, 32, 3)\n",
      "Number of classes = 43\n"
     ]
    }
   ],
   "source": [
    "### Replace each question mark with the appropriate value. \n",
    "### Use python, pandas or numpy methods rather than hard coding the results\n",
    "\n",
    "# TODO: Number of training examples\n",
    "n_train = len(X_train)\n",
    "print(n_train)\n",
    "# TODO: Number of validation examples\n",
    "n_valid = len(X_valid)\n",
    "\n",
    "# TODO: Number of testing examples.\n",
    "n_test = len(X_test)\n",
    "\n",
    "# TODO: What's the shape of an traffic sign image?\n",
    "image_shape = X_train[0].shape\n",
    "\n",
    "# TODO: How many unique classes/labels there are in the dataset.\n",
    "unique_classes = set(y_train)\n",
    "n_classes = len(unique_classes)\n",
    "\n",
    "print(\"Number of training examples =\", n_train)\n",
    "print(\"Number of validation examples =\", n_valid)\n",
    "print(\"Number of testing examples =\", n_test)\n",
    "print(\"Image data shape =\", image_shape)\n",
    "print(\"Number of classes =\", n_classes)"
   ]
  },
  {
   "cell_type": "markdown",
   "metadata": {
    "deletable": true,
    "editable": true
   },
   "source": [
    "### Include an exploratory visualization of the dataset"
   ]
  },
  {
   "cell_type": "markdown",
   "metadata": {
    "deletable": true,
    "editable": true
   },
   "source": [
    "Visualize the German Traffic Signs Dataset using the pickled file(s). This is open ended, suggestions include: plotting traffic sign images, plotting the count of each sign, etc. \n",
    "\n",
    "The [Matplotlib](http://matplotlib.org/) [examples](http://matplotlib.org/examples/index.html) and [gallery](http://matplotlib.org/gallery.html) pages are a great resource for doing visualizations in Python.\n",
    "\n",
    "**NOTE:** It's recommended you start with something simple first. If you wish to do more, come back to it after you've completed the rest of the sections. It can be interesting to look at the distribution of classes in the training, validation and test set. Is the distribution the same? Are there more examples of some classes than others?"
   ]
  },
  {
   "cell_type": "code",
   "execution_count": 84,
   "metadata": {
    "collapsed": false,
    "deletable": true,
    "editable": true
   },
   "outputs": [
    {
     "name": "stdout",
     "output_type": "stream",
     "text": [
      "Speed limit (20km/h)                               0.52 0.68 0.48\n",
      "Speed limit (30km/h)                               5.69 5.44 5.70\n",
      "Speed limit (50km/h)                               5.78 5.44 5.94\n",
      "Speed limit (60km/h)                               3.62 3.40 3.56\n",
      "Speed limit (70km/h)                               5.09 4.76 5.23\n",
      "Speed limit (80km/h)                               4.74 4.76 4.99\n",
      "End of speed limit (80km/h)                        1.03 1.36 1.19\n",
      "Speed limit (100km/h)                              3.71 3.40 3.56\n",
      "Speed limit (120km/h)                              3.62 3.40 3.56\n",
      "No passing                                         3.79 3.40 3.80\n",
      "No passing for vehicles over 3.5 metric tons       5.17 4.76 5.23\n",
      "Right-of-way at the next intersection              3.36 3.40 3.33\n",
      "Priority road                                      5.43 4.76 5.46\n",
      "Yield                                              5.52 5.44 5.70\n",
      "Stop                                               1.98 2.04 2.14\n",
      "No vehicles                                        1.55 2.04 1.66\n",
      "Vehicles over 3.5 metric tons prohibited           1.03 1.36 1.19\n",
      "No entry                                           2.84 2.72 2.85\n",
      "General caution                                    3.10 2.72 3.09\n",
      "Dangerous curve to the left                        0.52 0.68 0.48\n",
      "Dangerous curve to the right                       0.86 1.36 0.71\n",
      "Double curve                                       0.78 1.36 0.71\n",
      "Bumpy road                                         0.95 1.36 0.95\n",
      "Slippery road                                      1.29 1.36 1.19\n",
      "Road narrows on the right                          0.69 0.68 0.71\n",
      "Road work                                          3.88 3.40 3.80\n",
      "Traffic signals                                    1.55 1.36 1.43\n",
      "Pedestrians                                        0.60 0.68 0.48\n",
      "Children crossing                                  1.38 1.36 1.19\n",
      "Bicycles crossing                                  0.69 0.68 0.71\n",
      "Beware of ice/snow                                 1.12 1.36 1.19\n",
      "Wild animals crossing                              1.98 2.04 2.14\n",
      "End of all speed and passing limits                0.60 0.68 0.48\n",
      "Turn right ahead                                   1.72 2.04 1.66\n",
      "Turn left ahead                                    1.03 1.36 0.95\n",
      "Ahead only                                         3.10 2.72 3.09\n",
      "Go straight or right                               0.95 1.36 0.95\n",
      "Go straight or left                                0.52 0.68 0.48\n",
      "Keep right                                         5.34 4.76 5.46\n",
      "Keep left                                          0.78 0.68 0.71\n",
      "Roundabout mandatory                               0.86 1.36 0.71\n",
      "End of no passing                                  0.60 0.68 0.48\n",
      "End of no passing by vehicles over 3.5 metric tons 0.60 0.68 0.71\n",
      "1\n",
      "image dimensions (32, 32, 3)\n"
     ]
    },
    {
     "data": {
      "image/png": "[encoded data removed]",
      "text/plain": [
       "<matplotlib.figure.Figure at 0x7f0cbce879b0>"
      ]
     },
     "metadata": {},
     "output_type": "display_data"
    }
   ],
   "source": [
    "### Data exploration visualization code goes here.\n",
    "### Feel free to use as many code cells as needed.\n",
    "import matplotlib.pyplot as plt\n",
    "from random import randint\n",
    "import csv\n",
    "import numpy as np\n",
    "\n",
    "with open('signnames.csv') as f:\n",
    "    reader = csv.DictReader(f)\n",
    "    signs = {}\n",
    "    for row in reader:\n",
    "        print('{0:<50}'.format(row['SignName'], row['ClassId']),\n",
    "            \"{0:.2f}\".format(np.count_nonzero(y_train == int(row['ClassId']))*100/n_train),\n",
    "            \"{0:.2f}\".format(np.count_nonzero(y_valid == int(row['ClassId']))*100/n_valid),\n",
    "            \"{0:.2f}\".format(np.count_nonzero(y_test == int(row['ClassId']))*100/n_test))\n",
    "        signs[int(row['ClassId'])] = row['SignName']\n",
    "# Visualizations will be shown in the notebook.\n",
    "%matplotlib inline\n",
    "index = randint(0, n_train)\n",
    "plt.imshow(X_train[index])\n",
    "print(y_train[index])\n",
    "print(\"image dimensions\", random_image.shape)"
   ]
  },
  {
   "cell_type": "markdown",
   "metadata": {
    "deletable": true,
    "editable": true
   },
   "source": [
    "----\n",
    "\n",
    "## Step 2: Design and Test a Model Architecture\n",
    "\n",
    "Design and implement a deep learning model that learns to recognize traffic signs. Train and test your model on the [German Traffic Sign Dataset](http://benchmark.ini.rub.de/?section=gtsrb&subsection=dataset).\n",
    "\n",
    "The LeNet-5 implementation shown in the [classroom](https://classroom.udacity.com/nanodegrees/nd013/parts/fbf77062-5703-404e-b60c-95b78b2f3f9e/modules/6df7ae49-c61c-4bb2-a23e-6527e69209ec/lessons/601ae704-1035-4287-8b11-e2c2716217ad/concepts/d4aca031-508f-4e0b-b493-e7b706120f81) at the end of the CNN lesson is a solid starting point. You'll have to change the number of classes and possibly the preprocessing, but aside from that it's plug and play! \n",
    "\n",
    "With the LeNet-5 solution from the lecture, you should expect a validation set accuracy of about 0.89. To meet specifications, the validation set accuracy will need to be at least 0.93. It is possible to get an even higher accuracy, but 0.93 is the minimum for a successful project submission. \n",
    "\n",
    "There are various aspects to consider when thinking about this problem:\n",
    "\n",
    "- Neural network architecture (is the network over or underfitting?)\n",
    "- Play around preprocessing techniques (normalization, rgb to grayscale, etc)\n",
    "- Number of examples per label (some have more than others).\n",
    "- Generate fake data.\n",
    "\n",
    "Here is an example of a [published baseline model on this problem](http://yann.lecun.com/exdb/publis/pdf/sermanet-ijcnn-11.pdf). It's not required to be familiar with the approach used in the paper but, it's good practice to try to read papers like these."
   ]
  },
  {
   "cell_type": "markdown",
   "metadata": {
    "deletable": true,
    "editable": true
   },
   "source": [
    "### Pre-process the Data Set (normalization, grayscale, etc.)"
   ]
  },
  {
   "cell_type": "markdown",
   "metadata": {
    "deletable": true,
    "editable": true
   },
   "source": [
    "Minimally, the image data should be normalized so that the data has mean zero and equal variance. For image data, `(pixel - 128)/ 128` is a quick way to approximately normalize the data and can be used in this project. \n",
    "\n",
    "Other pre-processing steps are optional. You can try different techniques to see if it improves performance. \n",
    "\n",
    "Use the code cell (or multiple code cells, if necessary) to implement the first step of your project."
   ]
  },
  {
   "cell_type": "code",
   "execution_count": 102,
   "metadata": {
    "collapsed": false,
    "deletable": true,
    "editable": true
   },
   "outputs": [
    {
     "name": "stdout",
     "output_type": "stream",
     "text": [
      "Keep left\n"
     ]
    },
    {
     "data": {
      "text/plain": [
       "<matplotlib.figure.Figure at 0x7f0cbd33e400>"
      ]
     },
     "execution_count": 102,
     "metadata": {},
     "output_type": "execute_result"
    },
    {
     "data": {
      "image/png": "[encoded data removed]",
      "text/plain": [
       "<matplotlib.figure.Figure at 0x7f0cbda36a90>"
      ]
     },
     "metadata": {},
     "output_type": "display_data"
    },
    {
     "data": {
      "image/png": "[encoded data removed]",
      "text/plain": [
       "<matplotlib.figure.Figure at 0x7f0cbd4e1358>"
      ]
     },
     "metadata": {},
     "output_type": "display_data"
    },
    {
     "data": {
      "text/plain": [
       "<matplotlib.figure.Figure at 0x7f0cbd33e400>"
      ]
     },
     "metadata": {},
     "output_type": "display_data"
    }
   ],
   "source": [
    "### Preprocess the data here. It is required to normalize the data. Other preprocessing steps could include \n",
    "### converting to grayscale, etc.\n",
    "### Feel free to use as many code cells as needed.\n",
    "\n",
    "from skimage import exposure\n",
    "\n",
    "x_train = X_train/255.0\n",
    "x_valid = X_valid/255.0\n",
    "x_test =  X_test/255.0\n",
    "#print(x_train.shape)\n",
    "#print(X_train[0][0][0:2])\n",
    "#print(x_train[0][0][0:2])\n",
    "\n",
    "#Convert to grayscale \n",
    "x_train = x_train*np.array([0.299, 0.587, 0.114])\n",
    "x_valid = x_valid*np.array([0.299, 0.587, 0.114])\n",
    "x_test  =  x_test*np.array([0.299, 0.587, 0.114])\n",
    "#print(x_train.shape)\n",
    "#print(x_train[0][0][0:2])\n",
    "x_train = np.sum(x_train, axis=3, keepdims=True)\n",
    "x_valid = np.sum(x_valid, axis=3, keepdims=True)\n",
    "x_test  = np.sum(x_test , axis=3, keepdims=True)\n",
    "\n",
    "index = randint(0, n_train)\n",
    "print(signs[y_train[index]])\n",
    "\n",
    "plt.imshow(X_train[index])\n",
    "#print(np.squeeze(x_train, axis=3).shape)\n",
    "plt.figure()\n",
    "\n",
    "plt.imshow(np.squeeze(x_train, axis=3)[index], cmap='gray')\n",
    "#print(x_train[0][0][0:2])\n",
    "plt.figure()\n",
    "#plt.imshow(exposure.equalize_adapthist(np.squeeze(x_train, axis=3)[index]), cmap='gray')\n"
   ]
  },
  {
   "cell_type": "markdown",
   "metadata": {
    "deletable": true,
    "editable": true
   },
   "source": [
    "### Model Architecture"
   ]
  },
  {
   "cell_type": "code",
   "execution_count": 103,
   "metadata": {
    "collapsed": false,
    "deletable": true,
    "editable": true
   },
   "outputs": [],
   "source": [
    "### Define your architecture here.\n",
    "### Feel free to use as many code cells as needed.\n",
    "import tensorflow as tf\n",
    "\n",
    "mu = 0.0\n",
    "sigma = 0.1\n",
    "\n",
    "x = tf.placeholder(tf.float32, [None, 32,32,1])\n",
    "y_ = tf.placeholder(tf.int32, [None])\n",
    "one_hot_y_ = tf.one_hot(y_, depth=n_classes)\n",
    "\n",
    "w1 = tf.Variable(tf.truncated_normal([5,5,1,6],mean=mu, stddev=sigma))\n",
    "b1 = tf.Variable(tf.zeros([6]))\n",
    "conv1 = tf.nn.conv2d(x,w1,[1,1,1,1],padding='VALID') + b1\n",
    "\n",
    "relu1 = tf.nn.relu(conv1)\n",
    "\n",
    "pool1 = tf.nn.max_pool(relu1, strides=[1,2,2,1], ksize=[1,2,2,1], padding='VALID')\n",
    "\n",
    "w2 = tf.Variable(tf.truncated_normal([5,5,6,16], mean=mu, stddev=sigma))\n",
    "b2 = tf.Variable(tf.zeros([16]))\n",
    "conv2 = tf.nn.conv2d(pool1,w2,[1,1,1,1], padding='VALID') + b2\n",
    "\n",
    "relu2 = tf.nn.relu(conv2)\n",
    "\n",
    "pool2 = tf.nn.max_pool(relu2, strides=[1,2,2,1],ksize=[1,2,2,1], padding='VALID')\n",
    "\n",
    "flat_x = tf.contrib.layers.flatten(pool2)\n",
    "\n",
    "w3 = tf.Variable(tf.truncated_normal([5*5*16, 120], mean=mu, stddev=sigma))\n",
    "b3 = tf.Variable(tf.zeros(120))\n",
    "linear1 = tf.matmul(flat_x, w3) + b3\n",
    "\n",
    "relu3 = tf.nn.relu(linear1)\n",
    "\n",
    "dropout1 = tf.nn.dropout(relu3, 0.5)\n",
    "\n",
    "w4 = tf.Variable(tf.truncated_normal([120,84], mean=mu, stddev=sigma))\n",
    "b4 = tf.Variable(tf.zeros(84))\n",
    "linear2 =  tf.matmul(dropout1, w4) + b4\n",
    "\n",
    "relu4 = tf.nn.relu(linear2)\n",
    "\n",
    "dropout2 = tf.nn.dropout(relu4, 0.5)\n",
    "\n",
    "w5 = tf.Variable(tf.truncated_normal([84, n_classes], mean=mu, stddev=sigma))\n",
    "b5 = tf.Variable(tf.zeros(n_classes))\n",
    "y = tf.matmul(dropout2, w5) + b5\n",
    "\n",
    "cross_entropy = tf.reduce_mean(tf.nn.softmax_cross_entropy_with_logits(logits=y, labels=one_hot_y_))\n",
    "optimizer = tf.train.AdamOptimizer(0.01).minimize(cross_entropy)\n",
    "accuracy = tf.reduce_mean(tf.cast(tf.equal(tf.argmax(y, axis=1), tf.argmax(one_hot_y_, axis=1)),tf.float32))"
   ]
  },
  {
   "cell_type": "markdown",
   "metadata": {
    "deletable": true,
    "editable": true
   },
   "source": [
    "### Train, Validate and Test the Model"
   ]
  },
  {
   "cell_type": "markdown",
   "metadata": {
    "deletable": true,
    "editable": true
   },
   "source": [
    "A validation set can be used to assess how well the model is performing. A low accuracy on the training and validation\n",
    "sets imply underfitting. A high accuracy on the training set but low accuracy on the validation set implies overfitting."
   ]
  },
  {
   "cell_type": "code",
   "execution_count": 104,
   "metadata": {
    "collapsed": false,
    "deletable": true,
    "editable": true
   },
   "outputs": [
    {
     "name": "stdout",
     "output_type": "stream",
     "text": [
      "------- 0 -------\n",
      "training accuracy in this epoch 0.0549992505269\n",
      "validation accuracy\n",
      "0.0512472\n",
      "------- 1 -------\n",
      "training accuracy in this epoch 0.0534534633547\n",
      "validation accuracy\n",
      "0.0564626\n",
      "------- 2 -------\n",
      "training accuracy in this epoch 0.0534358146213\n",
      "validation accuracy\n",
      "0.0530612\n",
      "------- 3 -------\n",
      "training accuracy in this epoch 0.0561745797719\n",
      "validation accuracy\n",
      "0.0539683\n",
      "------- 4 -------\n",
      "training accuracy in this epoch 0.0567007168772\n",
      "validation accuracy\n",
      "0.0544218\n",
      "------- 5 -------\n",
      "training accuracy in this epoch 0.0576446340356\n",
      "validation accuracy\n",
      "0.0544218\n",
      "------- 6 -------\n",
      "training accuracy in this epoch 0.0541344122044\n",
      "validation accuracy\n",
      "0.0544218\n",
      "------- 7 -------\n",
      "training accuracy in this epoch 0.0557192176068\n",
      "validation accuracy\n",
      "0.0544218\n",
      "------- 8 -------\n",
      "training accuracy in this epoch 0.0567007037917\n",
      "validation accuracy\n",
      "0.047619\n",
      "------- 9 -------\n",
      "training accuracy in this epoch 0.0556574173502\n",
      "validation accuracy\n",
      "0.0544218\n"
     ]
    }
   ],
   "source": [
    "### Train your model here.\n",
    "### Calculate and report the accuracy on the training and validation set.\n",
    "### Once a final model architecture is selected, \n",
    "### the accuracy on the test set should be calculated and reported as well.\n",
    "### Feel free to use as many code cells as needed.\n",
    "from sklearn.utils import shuffle\n",
    "\n",
    "BATCH_SIZE=128\n",
    "EPOCHS=10\n",
    "\n",
    "saver = tf.train.Saver()\n",
    "acc = 0.0\n",
    "with tf.Session() as sess:\n",
    "    sess.run(tf.global_variables_initializer())\n",
    "      \n",
    "    for e in range(EPOCHS):\n",
    "        print(\"-------\",e,\"-------\")\n",
    "        x_train, y_train = shuffle(x_train, y_train)\n",
    "        for start in range(0, n_train, BATCH_SIZE):\n",
    "            end = start + BATCH_SIZE\n",
    "            batch_x, batch_y = x_train[start:end], y_train[start:end]\n",
    "            _, ac = sess.run([optimizer, accuracy], feed_dict={x: batch_x, y_: batch_y})\n",
    "            acc += ac*BATCH_SIZE\n",
    "        acc = acc/n_train\n",
    "        print(\"training accuracy in this epoch\", acc)\n",
    "        print(\"validation accuracy\")\n",
    "        if e%1 is 0:\n",
    "            #start = randint(0, n_valid)\n",
    "            #print(sess.run(accuracy, feed_dict={x:x_valid[start:start+100], y_:y_valid[start:start+100]}))\n",
    "            print(sess.run(accuracy, feed_dict={x:x_valid, y_:y_valid}))\n",
    "    saver.save(sess, './lenet_adam')\n",
    "    #print(sess.run(accuracy, feed_dict={x:X_test, y_:y_test}))    "
   ]
  },
  {
   "cell_type": "code",
   "execution_count": 100,
   "metadata": {
    "collapsed": false,
    "deletable": true,
    "editable": true
   },
   "outputs": [
    {
     "name": "stdout",
     "output_type": "stream",
     "text": [
      "------- 0 -------\n",
      "training accuracy in this epoch 0.761892297699\n",
      "validation accuracy\n",
      "0.712245\n",
      "------- 1 -------\n",
      "training accuracy in this epoch 0.675757890391\n",
      "validation accuracy\n",
      "0.692971\n",
      "------- 2 -------\n",
      "training accuracy in this epoch 0.738241936867\n",
      "validation accuracy\n",
      "0.714286\n",
      "------- 3 -------\n",
      "training accuracy in this epoch 0.755693234646\n",
      "validation accuracy\n",
      "0.722449\n",
      "------- 4 -------\n",
      "training accuracy in this epoch 0.754345452493\n",
      "validation accuracy\n",
      "0.722449\n",
      "------- 5 -------\n",
      "training accuracy in this epoch 0.759805082067\n",
      "validation accuracy\n",
      "0.733787\n",
      "------- 6 -------\n",
      "training accuracy in this epoch 0.742831053355\n",
      "validation accuracy\n",
      "0.727438\n",
      "------- 7 -------\n",
      "training accuracy in this epoch 0.736163707339\n",
      "validation accuracy\n",
      "0.660091\n",
      "------- 8 -------\n",
      "training accuracy in this epoch 0.74386255637\n",
      "validation accuracy\n",
      "0.701134\n",
      "------- 9 -------\n",
      "training accuracy in this epoch 0.731665575186\n",
      "validation accuracy\n",
      "0.616553\n",
      "------- 10 -------\n",
      "training accuracy in this epoch 0.743475908903\n",
      "validation accuracy\n",
      "0.623356\n",
      "------- 11 -------\n",
      "training accuracy in this epoch 0.7622895672\n",
      "validation accuracy\n",
      "0.721315\n",
      "------- 12 -------\n",
      "training accuracy in this epoch 0.767465000151\n",
      "validation accuracy\n",
      "0.665986\n",
      "------- 13 -------\n",
      "training accuracy in this epoch 0.73718132326\n",
      "validation accuracy\n",
      "0.702948\n",
      "------- 14 -------\n",
      "training accuracy in this epoch 0.768591472725\n",
      "validation accuracy\n",
      "0.70771\n",
      "------- 15 -------\n",
      "training accuracy in this epoch 0.733105179663\n",
      "validation accuracy\n",
      "0.572109\n",
      "------- 16 -------\n",
      "training accuracy in this epoch 0.71686340119\n",
      "validation accuracy\n",
      "0.705215\n",
      "------- 17 -------\n",
      "training accuracy in this epoch 0.74649695376\n",
      "validation accuracy\n",
      "0.719048\n",
      "------- 18 -------\n",
      "training accuracy in this epoch 0.726800387378\n",
      "validation accuracy\n",
      "0.6\n",
      "------- 19 -------\n",
      "training accuracy in this epoch 0.755553624626\n",
      "validation accuracy\n",
      "0.695238\n",
      "------- 20 -------\n",
      "training accuracy in this epoch 0.770345183539\n",
      "validation accuracy\n",
      "0.671655\n",
      "------- 21 -------\n",
      "training accuracy in this epoch 0.765933397251\n",
      "validation accuracy\n",
      "0.711565\n",
      "------- 22 -------\n",
      "training accuracy in this epoch 0.563071481623\n",
      "validation accuracy\n",
      "0.679138\n",
      "------- 23 -------\n",
      "training accuracy in this epoch 0.689716024588\n",
      "validation accuracy\n",
      "0.712472\n",
      "------- 24 -------\n",
      "training accuracy in this epoch 0.750435398261\n",
      "validation accuracy\n",
      "0.691837\n",
      "------- 25 -------\n",
      "training accuracy in this epoch 0.725635508957\n",
      "validation accuracy\n",
      "0.704535\n",
      "------- 26 -------\n",
      "training accuracy in this epoch 0.761900206222\n",
      "validation accuracy\n",
      "0.650567\n",
      "------- 27 -------\n",
      "training accuracy in this epoch 0.754332427681\n",
      "validation accuracy\n",
      "0.680045\n",
      "------- 28 -------\n",
      "training accuracy in this epoch 0.714311126413\n",
      "validation accuracy\n",
      "0.649433\n",
      "------- 29 -------\n",
      "training accuracy in this epoch 0.739209211025\n",
      "validation accuracy\n",
      "0.540363\n",
      "------- 30 -------\n",
      "training accuracy in this epoch 0.717551180631\n",
      "validation accuracy\n",
      "0.661905\n",
      "------- 31 -------\n",
      "training accuracy in this epoch 0.749925414138\n",
      "validation accuracy\n",
      "0.721542\n",
      "------- 32 -------\n",
      "training accuracy in this epoch 0.768994149356\n",
      "validation accuracy\n",
      "0.718821\n",
      "------- 33 -------\n",
      "training accuracy in this epoch 0.747316534738\n",
      "validation accuracy\n",
      "0.689796\n",
      "------- 34 -------\n",
      "training accuracy in this epoch 0.754011506501\n",
      "validation accuracy\n",
      "0.689342\n",
      "------- 35 -------\n",
      "training accuracy in this epoch 0.748779333663\n",
      "validation accuracy\n",
      "0.719501\n",
      "------- 36 -------\n",
      "training accuracy in this epoch 0.735569473698\n",
      "validation accuracy\n",
      "0.627438\n",
      "------- 37 -------\n",
      "training accuracy in this epoch 0.754154851222\n",
      "validation accuracy\n",
      "0.695011\n",
      "------- 38 -------\n",
      "training accuracy in this epoch 0.762135059565\n",
      "validation accuracy\n",
      "0.729478\n",
      "------- 39 -------\n",
      "training accuracy in this epoch 0.762248163543\n",
      "validation accuracy\n",
      "0.694104\n",
      "------- 40 -------\n",
      "training accuracy in this epoch 0.73529777052\n",
      "validation accuracy\n",
      "0.728571\n",
      "------- 41 -------\n",
      "training accuracy in this epoch 0.756586310119\n",
      "validation accuracy\n",
      "0.678458\n",
      "------- 42 -------\n",
      "training accuracy in this epoch 0.734634598109\n",
      "validation accuracy\n",
      "0.70907\n",
      "------- 43 -------\n",
      "training accuracy in this epoch 0.735462923515\n",
      "validation accuracy\n",
      "0.658503\n",
      "------- 44 -------\n",
      "training accuracy in this epoch 0.732703988431\n",
      "validation accuracy\n",
      "0.72585\n",
      "------- 45 -------\n",
      "training accuracy in this epoch 0.748411878349\n",
      "validation accuracy\n",
      "0.680952\n",
      "------- 46 -------\n",
      "training accuracy in this epoch 0.725270678974\n",
      "validation accuracy\n",
      "0.705442\n",
      "------- 47 -------\n",
      "training accuracy in this epoch 0.709115723554\n",
      "validation accuracy\n",
      "0.673469\n",
      "------- 48 -------\n",
      "training accuracy in this epoch 0.734705981243\n",
      "validation accuracy\n",
      "0.712018\n",
      "------- 49 -------\n",
      "training accuracy in this epoch 0.748022828646\n",
      "validation accuracy\n",
      "0.678005\n"
     ]
    }
   ],
   "source": [
    "with tf.Session() as sess:\n",
    "    saver.restore(sess, tf.train.latest_checkpoint('.'))\n",
    "    \n",
    "    for e in range(50):\n",
    "        print(\"-------\",e,\"-------\")\n",
    "        x_train, y_train = shuffle(x_train, y_train)\n",
    "        for start in range(0, n_train, BATCH_SIZE):\n",
    "            end = start + BATCH_SIZE\n",
    "            batch_x, batch_y = x_train[start:end], y_train[start:end]\n",
    "            _, ac = sess.run([optimizer, accuracy], feed_dict={x: batch_x, y_: batch_y})\n",
    "            acc += ac*BATCH_SIZE\n",
    "        acc = acc/n_train\n",
    "        print(\"training accuracy in this epoch\", acc)\n",
    "        print(\"validation accuracy\")\n",
    "        if e%1 is 0:\n",
    "            #start = randint(0,n_valid)\n",
    "            #print(sess.run(accuracy, feed_dict={x:x_valid[start:start+100], y_:y_valid[start:start+100]}))\n",
    "            print(sess.run(accuracy, feed_dict={x:x_valid, y_:y_valid}))\n",
    "\n",
    "    saver.save(sess, './lenet_adam')    "
   ]
  },
  {
   "cell_type": "markdown",
   "metadata": {
    "deletable": true,
    "editable": true
   },
   "source": [
    "---\n",
    "\n",
    "## Step 3: Test a Model on New Images\n",
    "\n",
    "To give yourself more insight into how your model is working, download at least five pictures of German traffic signs from the web and use your model to predict the traffic sign type.\n",
    "\n",
    "You may find `signnames.csv` useful as it contains mappings from the class id (integer) to the actual sign name."
   ]
  },
  {
   "cell_type": "markdown",
   "metadata": {
    "deletable": true,
    "editable": true
   },
   "source": [
    "### Load and Output the Images"
   ]
  },
  {
   "cell_type": "code",
   "execution_count": null,
   "metadata": {
    "collapsed": true,
    "deletable": true,
    "editable": true
   },
   "outputs": [],
   "source": [
    "### Load the images and plot them here.\n",
    "### Feel free to use as many code cells as needed."
   ]
  },
  {
   "cell_type": "markdown",
   "metadata": {
    "deletable": true,
    "editable": true
   },
   "source": [
    "### Predict the Sign Type for Each Image"
   ]
  },
  {
   "cell_type": "code",
   "execution_count": 3,
   "metadata": {
    "collapsed": true,
    "deletable": true,
    "editable": true
   },
   "outputs": [],
   "source": [
    "### Run the predictions here and use the model to output the prediction for each image.\n",
    "### Make sure to pre-process the images with the same pre-processing pipeline used earlier.\n",
    "### Feel free to use as many code cells as needed."
   ]
  },
  {
   "cell_type": "markdown",
   "metadata": {
    "deletable": true,
    "editable": true
   },
   "source": [
    "### Analyze Performance"
   ]
  },
  {
   "cell_type": "code",
   "execution_count": 4,
   "metadata": {
    "collapsed": true,
    "deletable": true,
    "editable": true
   },
   "outputs": [],
   "source": [
    "### Calculate the accuracy for these 5 new images. \n",
    "### For example, if the model predicted 1 out of 5 signs correctly, it's 20% accurate on these new images."
   ]
  },
  {
   "cell_type": "markdown",
   "metadata": {
    "deletable": true,
    "editable": true
   },
   "source": [
    "### Output Top 5 Softmax Probabilities For Each Image Found on the Web"
   ]
  },
  {
   "cell_type": "markdown",
   "metadata": {
    "deletable": true,
    "editable": true
   },
   "source": [
    "For each of the new images, print out the model's softmax probabilities to show the **certainty** of the model's predictions (limit the output to the top 5 probabilities for each image). [`tf.nn.top_k`](https://www.tensorflow.org/versions/r0.12/api_docs/python/nn.html#top_k) could prove helpful here. \n",
    "\n",
    "The example below demonstrates how tf.nn.top_k can be used to find the top k predictions for each image.\n",
    "\n",
    "`tf.nn.top_k` will return the values and indices (class ids) of the top k predictions. So if k=3, for each sign, it'll return the 3 largest probabilities (out of a possible 43) and the correspoding class ids.\n",
    "\n",
    "Take this numpy array as an example. The values in the array represent predictions. The array contains softmax probabilities for five candidate images with six possible classes. `tk.nn.top_k` is used to choose the three classes with the highest probability:\n",
    "\n",
    "```\n",
    "# (5, 6) array\n",
    "a = np.array([[ 0.24879643,  0.07032244,  0.12641572,  0.34763842,  0.07893497,\n",
    "         0.12789202],\n",
    "       [ 0.28086119,  0.27569815,  0.08594638,  0.0178669 ,  0.18063401,\n",
    "         0.15899337],\n",
    "       [ 0.26076848,  0.23664738,  0.08020603,  0.07001922,  0.1134371 ,\n",
    "         0.23892179],\n",
    "       [ 0.11943333,  0.29198961,  0.02605103,  0.26234032,  0.1351348 ,\n",
    "         0.16505091],\n",
    "       [ 0.09561176,  0.34396535,  0.0643941 ,  0.16240774,  0.24206137,\n",
    "         0.09155967]])\n",
    "```\n",
    "\n",
    "Running it through `sess.run(tf.nn.top_k(tf.constant(a), k=3))` produces:\n",
    "\n",
    "```\n",
    "TopKV2(values=array([[ 0.34763842,  0.24879643,  0.12789202],\n",
    "       [ 0.28086119,  0.27569815,  0.18063401],\n",
    "       [ 0.26076848,  0.23892179,  0.23664738],\n",
    "       [ 0.29198961,  0.26234032,  0.16505091],\n",
    "       [ 0.34396535,  0.24206137,  0.16240774]]), indices=array([[3, 0, 5],\n",
    "       [0, 1, 4],\n",
    "       [0, 5, 1],\n",
    "       [1, 3, 5],\n",
    "       [1, 4, 3]], dtype=int32))\n",
    "```\n",
    "\n",
    "Looking just at the first row we get `[ 0.34763842,  0.24879643,  0.12789202]`, you can confirm these are the 3 largest probabilities in `a`. You'll also notice `[3, 0, 5]` are the corresponding indices."
   ]
  },
  {
   "cell_type": "code",
   "execution_count": 3,
   "metadata": {
    "collapsed": true,
    "deletable": true,
    "editable": true
   },
   "outputs": [],
   "source": [
    "### Print out the top five softmax probabilities for the predictions on the German traffic sign images found on the web. \n",
    "### Feel free to use as many code cells as needed."
   ]
  },
  {
   "cell_type": "markdown",
   "metadata": {
    "deletable": true,
    "editable": true
   },
   "source": [
    "### Project Writeup\n",
    "\n",
    "Once you have completed the code implementation, document your results in a project writeup using this [template](https://github.com/udacity/CarND-Traffic-Sign-Classifier-Project/blob/master/writeup_template.md) as a guide. The writeup can be in a markdown or pdf file. "
   ]
  },
  {
   "cell_type": "markdown",
   "metadata": {
    "deletable": true,
    "editable": true
   },
   "source": [
    "> **Note**: Once you have completed all of the code implementations and successfully answered each question above, you may finalize your work by exporting the iPython Notebook as an HTML document. You can do this by using the menu above and navigating to  \\n\",\n",
    "    \"**File -> Download as -> HTML (.html)**. Include the finished document along with this notebook as your submission."
   ]
  },
  {
   "cell_type": "markdown",
   "metadata": {
    "deletable": true,
    "editable": true
   },
   "source": [
    "---\n",
    "\n",
    "## Step 4 (Optional): Visualize the Neural Network's State with Test Images\n",
    "\n",
    " This Section is not required to complete but acts as an additional excersise for understaning the output of a neural network's weights. While neural networks can be a great learning device they are often referred to as a black box. We can understand what the weights of a neural network look like better by plotting their feature maps. After successfully training your neural network you can see what it's feature maps look like by plotting the output of the network's weight layers in response to a test stimuli image. From these plotted feature maps, it's possible to see what characteristics of an image the network finds interesting. For a sign, maybe the inner network feature maps react with high activation to the sign's boundary outline or to the contrast in the sign's painted symbol.\n",
    "\n",
    " Provided for you below is the function code that allows you to get the visualization output of any tensorflow weight layer you want. The inputs to the function should be a stimuli image, one used during training or a new one you provided, and then the tensorflow variable name that represents the layer's state during the training process, for instance if you wanted to see what the [LeNet lab's](https://classroom.udacity.com/nanodegrees/nd013/parts/fbf77062-5703-404e-b60c-95b78b2f3f9e/modules/6df7ae49-c61c-4bb2-a23e-6527e69209ec/lessons/601ae704-1035-4287-8b11-e2c2716217ad/concepts/d4aca031-508f-4e0b-b493-e7b706120f81) feature maps looked like for it's second convolutional layer you could enter conv2 as the tf_activation variable.\n",
    "\n",
    "For an example of what feature map outputs look like, check out NVIDIA's results in their paper [End-to-End Deep Learning for Self-Driving Cars](https://devblogs.nvidia.com/parallelforall/deep-learning-self-driving-cars/) in the section Visualization of internal CNN State. NVIDIA was able to show that their network's inner weights had high activations to road boundary lines by comparing feature maps from an image with a clear path to one without. Try experimenting with a similar test to show that your trained network's weights are looking for interesting features, whether it's looking at differences in feature maps from images with or without a sign, or even what feature maps look like in a trained network vs a completely untrained one on the same sign image.\n",
    "\n",
    "<figure>\n",
    " <img src=\"visualize_cnn.png\" width=\"380\" alt=\"Combined Image\" />\n",
    " <figcaption>\n",
    " <p></p> \n",
    " <p style=\"text-align: center;\"> Your output should look something like this (above)</p> \n",
    " </figcaption>\n",
    "</figure>\n",
    " <p></p> \n"
   ]
  },
  {
   "cell_type": "code",
   "execution_count": null,
   "metadata": {
    "collapsed": true,
    "deletable": true,
    "editable": true
   },
   "outputs": [],
   "source": [
    "### Visualize your network's feature maps here.\n",
    "### Feel free to use as many code cells as needed.\n",
    "\n",
    "# image_input: the test image being fed into the network to produce the feature maps\n",
    "# tf_activation: should be a tf variable name used during your training procedure that represents the calculated state of a specific weight layer\n",
    "# activation_min/max: can be used to view the activation contrast in more detail, by default matplot sets min and max to the actual min and max values of the output\n",
    "# plt_num: used to plot out multiple different weight feature map sets on the same block, just extend the plt number for each new feature map entry\n",
    "\n",
    "def outputFeatureMap(image_input, tf_activation, activation_min=-1, activation_max=-1 ,plt_num=1):\n",
    "    # Here make sure to preprocess your image_input in a way your network expects\n",
    "    # with size, normalization, ect if needed\n",
    "    # image_input =\n",
    "    # Note: x should be the same name as your network's tensorflow data placeholder variable\n",
    "    # If you get an error tf_activation is not defined it may be having trouble accessing the variable from inside a function\n",
    "    activation = tf_activation.eval(session=sess,feed_dict={x : image_input})\n",
    "    featuremaps = activation.shape[3]\n",
    "    plt.figure(plt_num, figsize=(15,15))\n",
    "    for featuremap in range(featuremaps):\n",
    "        plt.subplot(6,8, featuremap+1) # sets the number of feature maps to show on each row and column\n",
    "        plt.title('FeatureMap ' + str(featuremap)) # displays the feature map number\n",
    "        if activation_min != -1 & activation_max != -1:\n",
    "            plt.imshow(activation[0,:,:, featuremap], interpolation=\"nearest\", vmin =activation_min, vmax=activation_max, cmap=\"gray\")\n",
    "        elif activation_max != -1:\n",
    "            plt.imshow(activation[0,:,:, featuremap], interpolation=\"nearest\", vmax=activation_max, cmap=\"gray\")\n",
    "        elif activation_min !=-1:\n",
    "            plt.imshow(activation[0,:,:, featuremap], interpolation=\"nearest\", vmin=activation_min, cmap=\"gray\")\n",
    "        else:\n",
    "            plt.imshow(activation[0,:,:, featuremap], interpolation=\"nearest\", cmap=\"gray\")"
   ]
  }
 ],
 "metadata": {
  "anaconda-cloud": {},
  "kernelspec": {
   "display_name": "Python 3",
   "language": "python",
   "name": "python3"
  },
  "language_info": {
   "codemirror_mode": {
    "name": "ipython",
    "version": 3
   },
   "file_extension": ".py",
   "mimetype": "text/x-python",
   "name": "python",
   "nbconvert_exporter": "python",
   "pygments_lexer": "ipython3",
   "version": "3.5.2"
  },
  "widgets": {
   "state": {},
   "version": "1.1.2"
  }
 },
 "nbformat": 4,
 "nbformat_minor": 1
}
